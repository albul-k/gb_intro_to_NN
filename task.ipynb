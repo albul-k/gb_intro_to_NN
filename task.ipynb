{
  "nbformat": 4,
  "nbformat_minor": 0,
  "metadata": {
    "colab": {
      "name": "les4.ipynb",
      "provenance": [],
      "collapsed_sections": []
    },
    "kernelspec": {
      "name": "python3",
      "display_name": "Python 3"
    },
    "language_info": {
      "name": "python"
    },
    "accelerator": "GPU"
  },
  "cells": [
    {
      "cell_type": "markdown",
      "metadata": {
        "id": "YCx6Txen1DRJ"
      },
      "source": [
        "# Урок: Сверточные нейронные сети\n",
        "\n",
        "## Задание: \n",
        "\n",
        "* реализовать нейронную сеть или стек из сверток (Concatenate) на сifar10.\n",
        "* оценить рост точности при увеличении ширины сети (больше ядер), больше нитей.\n",
        "* оценить рост точности при увеличении глубины сети (больше слоев)"
      ]
    },
    {
      "cell_type": "code",
      "metadata": {
        "id": "iFIq3oTe1Zyk"
      },
      "source": [
        "import os\n",
        "import matplotlib.pyplot as plt\n",
        "\n",
        "# from __future__ import print_function\n",
        "\n",
        "import tensorflow.keras as keras\n",
        "from tensorflow.keras.datasets import cifar10\n",
        "from tensorflow.keras.preprocessing.image import ImageDataGenerator\n",
        "from tensorflow.keras.models import Sequential\n",
        "from tensorflow.keras.layers import Dense, Dropout, Activation, Flatten\n",
        "from tensorflow.keras.layers import Conv2D, MaxPooling2D"
      ],
      "execution_count": 10,
      "outputs": []
    },
    {
      "cell_type": "code",
      "metadata": {
        "id": "GE_LG4Bu9DWX"
      },
      "source": [
        "def plot(train_loss, test_loss, title):\n",
        "  plt.figure(figsize=(20,5))\n",
        "  plt.plot(train_loss, label = 'train loss')\n",
        "  plt.plot(test_loss, label = 'test loss')\n",
        "  plt.xlabel('epochs')\n",
        "  plt.ylabel('loss')\n",
        "  plt.legend()\n",
        "  plt.grid('On')\n",
        "  plt.title(title)\n",
        "  plt.show()"
      ],
      "execution_count": 11,
      "outputs": []
    },
    {
      "cell_type": "code",
      "metadata": {
        "colab": {
          "base_uri": "https://localhost:8080/"
        },
        "id": "PAO-KN3X6lTw",
        "outputId": "41d5a2d6-bc56-400e-cf19-08e42ff8b809"
      },
      "source": [
        "num_classes = 10\n",
        "\n",
        "# разделение тренировочной и тестовой выборки\n",
        "(x_train, y_train), (x_test, y_test) = cifar10.load_data()\n",
        "print('x_train shape:', x_train.shape)\n",
        "print('x_test shape:', x_test.shape)\n",
        "\n",
        "# преобразование матрицы чисел 0-9 в бинарную матрицу чисел 0-1\n",
        "y_train = keras.utils.to_categorical(y_train, num_classes)\n",
        "y_test = keras.utils.to_categorical(y_test, num_classes)\n",
        "\n",
        "x_train = x_train.astype('float32')\n",
        "x_test = x_test.astype('float32')\n",
        "x_train /= 255\n",
        "x_test /= 255"
      ],
      "execution_count": 12,
      "outputs": [
        {
          "output_type": "stream",
          "text": [
            "x_train shape: (50000, 32, 32, 3)\n",
            "x_test shape: (10000, 32, 32, 3)\n"
          ],
          "name": "stdout"
        }
      ]
    },
    {
      "cell_type": "markdown",
      "metadata": {
        "id": "WxH_MbcO-aBl"
      },
      "source": [
        "## Базовый вариант сети"
      ]
    },
    {
      "cell_type": "markdown",
      "metadata": {
        "id": "rrxbwJNLAe-C"
      },
      "source": [
        "### Конфигурация"
      ]
    },
    {
      "cell_type": "code",
      "metadata": {
        "colab": {
          "base_uri": "https://localhost:8080/"
        },
        "id": "IhH3FaEB-eIa",
        "outputId": "108979d0-8d36-499f-d76d-43b2cbbce651"
      },
      "source": [
        "model_1 = Sequential()\n",
        "\n",
        "# слои свертки и max-pooling #1\n",
        "model_1.add(Conv2D(32, (3, 3), padding='same', input_shape=x_train.shape[1:]))\n",
        "model_1.add(Activation('relu'))\n",
        "model_1.add(Conv2D(32, (3, 3)))\n",
        "model_1.add(Activation('relu'))\n",
        "model_1.add(MaxPooling2D(pool_size=(2, 2)))\n",
        "model_1.add(Dropout(0.25))\n",
        "\n",
        "# слои свертки и max-pooling #2\n",
        "model_1.add(Conv2D(64, (3, 3), padding='same'))\n",
        "model_1.add(Activation('relu'))\n",
        "model_1.add(Conv2D(64, (3, 3)))\n",
        "model_1.add(Activation('relu'))\n",
        "model_1.add(MaxPooling2D(pool_size=(2, 2)))\n",
        "model_1.add(Dropout(0.25))\n",
        "\n",
        "# полносвязный слой\n",
        "model_1.add(Flatten())\n",
        "model_1.add(Dense(512))\n",
        "model_1.add(Activation('relu'))\n",
        "model_1.add(Dropout(0.5))\n",
        "\n",
        "model_1.add(Dense(num_classes))\n",
        "model_1.add(Activation('softmax'))\n",
        "\n",
        "# компиляция модели\n",
        "model_1.compile(\n",
        "  loss='categorical_crossentropy',\n",
        "  optimizer='SGD',\n",
        "  metrics=['accuracy'],\n",
        ")\n",
        "\n",
        "model_1.summary()"
      ],
      "execution_count": 13,
      "outputs": [
        {
          "output_type": "stream",
          "text": [
            "Model: \"sequential_1\"\n",
            "_________________________________________________________________\n",
            "Layer (type)                 Output Shape              Param #   \n",
            "=================================================================\n",
            "conv2d_4 (Conv2D)            (None, 32, 32, 32)        896       \n",
            "_________________________________________________________________\n",
            "activation_6 (Activation)    (None, 32, 32, 32)        0         \n",
            "_________________________________________________________________\n",
            "conv2d_5 (Conv2D)            (None, 30, 30, 32)        9248      \n",
            "_________________________________________________________________\n",
            "activation_7 (Activation)    (None, 30, 30, 32)        0         \n",
            "_________________________________________________________________\n",
            "max_pooling2d_2 (MaxPooling2 (None, 15, 15, 32)        0         \n",
            "_________________________________________________________________\n",
            "dropout_3 (Dropout)          (None, 15, 15, 32)        0         \n",
            "_________________________________________________________________\n",
            "conv2d_6 (Conv2D)            (None, 15, 15, 64)        18496     \n",
            "_________________________________________________________________\n",
            "activation_8 (Activation)    (None, 15, 15, 64)        0         \n",
            "_________________________________________________________________\n",
            "conv2d_7 (Conv2D)            (None, 13, 13, 64)        36928     \n",
            "_________________________________________________________________\n",
            "activation_9 (Activation)    (None, 13, 13, 64)        0         \n",
            "_________________________________________________________________\n",
            "max_pooling2d_3 (MaxPooling2 (None, 6, 6, 64)          0         \n",
            "_________________________________________________________________\n",
            "dropout_4 (Dropout)          (None, 6, 6, 64)          0         \n",
            "_________________________________________________________________\n",
            "flatten_1 (Flatten)          (None, 2304)              0         \n",
            "_________________________________________________________________\n",
            "dense_2 (Dense)              (None, 512)               1180160   \n",
            "_________________________________________________________________\n",
            "activation_10 (Activation)   (None, 512)               0         \n",
            "_________________________________________________________________\n",
            "dropout_5 (Dropout)          (None, 512)               0         \n",
            "_________________________________________________________________\n",
            "dense_3 (Dense)              (None, 10)                5130      \n",
            "_________________________________________________________________\n",
            "activation_11 (Activation)   (None, 10)                0         \n",
            "=================================================================\n",
            "Total params: 1,250,858\n",
            "Trainable params: 1,250,858\n",
            "Non-trainable params: 0\n",
            "_________________________________________________________________\n"
          ],
          "name": "stdout"
        }
      ]
    },
    {
      "cell_type": "markdown",
      "metadata": {
        "id": "ijovKDhH_1r7"
      },
      "source": [
        "### Обучение"
      ]
    },
    {
      "cell_type": "code",
      "metadata": {
        "colab": {
          "base_uri": "https://localhost:8080/",
          "height": 546
        },
        "id": "dO2NI9i3_aBG",
        "outputId": "2e3280a6-422f-4847-88bd-47a4cf247c86"
      },
      "source": [
        "hh = model_1.fit(\n",
        "  x_train,\n",
        "  y_train,\n",
        "  batch_size=32,\n",
        "  epochs=5,\n",
        "  validation_data=(x_test, y_test),\n",
        "  shuffle=True,\n",
        ")\n",
        "\n",
        "# проверка работы обученной модели\n",
        "result = model_1.evaluate(\n",
        "  x_test,\n",
        "  y_test,\n",
        "  verbose=1,\n",
        ")\n",
        "\n",
        "plot(hh.history['loss'], hh.history['val_loss'], f'loss={round(result[0], 3)} accuracy={round(result[1], 3)}')"
      ],
      "execution_count": 14,
      "outputs": [
        {
          "output_type": "stream",
          "text": [
            "Epoch 1/5\n",
            "1563/1563 [==============================] - 39s 5ms/step - loss: 2.0868 - accuracy: 0.2243 - val_loss: 1.7912 - val_accuracy: 0.3551\n",
            "Epoch 2/5\n",
            "1563/1563 [==============================] - 7s 5ms/step - loss: 1.7648 - accuracy: 0.3546 - val_loss: 1.8268 - val_accuracy: 0.3451\n",
            "Epoch 3/5\n",
            "1563/1563 [==============================] - 7s 5ms/step - loss: 1.6181 - accuracy: 0.4110 - val_loss: 1.5077 - val_accuracy: 0.4494\n",
            "Epoch 4/5\n",
            "1563/1563 [==============================] - 7s 5ms/step - loss: 1.5196 - accuracy: 0.4469 - val_loss: 1.3826 - val_accuracy: 0.4987\n",
            "Epoch 5/5\n",
            "1563/1563 [==============================] - 8s 5ms/step - loss: 1.4332 - accuracy: 0.4807 - val_loss: 1.3097 - val_accuracy: 0.5281\n",
            "313/313 [==============================] - 1s 3ms/step - loss: 1.3097 - accuracy: 0.5281\n"
          ],
          "name": "stdout"
        },
        {
          "output_type": "display_data",
          "data": {
            "image/png": "[encoded data removed]",
            "text/plain": [
              "<Figure size 1440x360 with 1 Axes>"
            ]
          },
          "metadata": {
            "tags": [],
            "needs_background": "light"
          }
        }
      ]
    },
    {
      "cell_type": "markdown",
      "metadata": {
        "id": "AkZ1z34dBcgK"
      },
      "source": [
        "## Оптимизированный вариант сети"
      ]
    },
    {
      "cell_type": "markdown",
      "metadata": {
        "id": "Ul8mMGMEBlpl"
      },
      "source": [
        "### Конфигурация"
      ]
    },
    {
      "cell_type": "code",
      "metadata": {
        "colab": {
          "base_uri": "https://localhost:8080/"
        },
        "id": "1IOzi1rh8o-9",
        "outputId": "0df93c26-b952-4022-b646-88d79ef9fbf8"
      },
      "source": [
        "# конфигурирование слоев нейросети\n",
        "model_2 = Sequential()\n",
        "\n",
        "# слои свертки и max-pooling #1\n",
        "model_2.add(Conv2D(32, (3, 3), padding='same', input_shape=x_train.shape[1:]))\n",
        "model_2.add(Activation('relu'))\n",
        "model_2.add(Conv2D(32, (3, 3)))\n",
        "model_2.add(Activation('relu'))\n",
        "model_2.add(MaxPooling2D(pool_size=(2, 2)))\n",
        "model_2.add(Dropout(0.25))\n",
        "\n",
        "# слои свертки и max-pooling #2\n",
        "model_2.add(Conv2D(64, (3, 3), padding='same'))\n",
        "model_2.add(Activation('relu'))\n",
        "model_2.add(Conv2D(64, (3, 3)))\n",
        "model_2.add(Activation('relu'))\n",
        "model_2.add(MaxPooling2D(pool_size=(2, 2)))\n",
        "model_2.add(Dropout(0.25))\n",
        "\n",
        "model_2.add(Flatten())\n",
        "\n",
        "# полносвязный слой #1\n",
        "model_2.add(Dense(512))\n",
        "model_2.add(Activation('relu'))\n",
        "model_2.add(Dropout(0.5))\n",
        "\n",
        "# полносвязный слой #2\n",
        "model_2.add(Dense(512))\n",
        "model_2.add(Activation('relu'))\n",
        "model_2.add(Dropout(0.5))\n",
        "\n",
        "model_2.add(Dense(num_classes))\n",
        "model_2.add(Activation('softmax'))\n",
        "\n",
        "# компиляция модели\n",
        "model_2.compile(\n",
        "  loss='categorical_crossentropy',\n",
        "  optimizer='nadam',\n",
        "  metrics=['accuracy']\n",
        ")\n",
        "\n",
        "model_2.summary()"
      ],
      "execution_count": 15,
      "outputs": [
        {
          "output_type": "stream",
          "text": [
            "Model: \"sequential_2\"\n",
            "_________________________________________________________________\n",
            "Layer (type)                 Output Shape              Param #   \n",
            "=================================================================\n",
            "conv2d_8 (Conv2D)            (None, 32, 32, 32)        896       \n",
            "_________________________________________________________________\n",
            "activation_12 (Activation)   (None, 32, 32, 32)        0         \n",
            "_________________________________________________________________\n",
            "conv2d_9 (Conv2D)            (None, 30, 30, 32)        9248      \n",
            "_________________________________________________________________\n",
            "activation_13 (Activation)   (None, 30, 30, 32)        0         \n",
            "_________________________________________________________________\n",
            "max_pooling2d_4 (MaxPooling2 (None, 15, 15, 32)        0         \n",
            "_________________________________________________________________\n",
            "dropout_6 (Dropout)          (None, 15, 15, 32)        0         \n",
            "_________________________________________________________________\n",
            "conv2d_10 (Conv2D)           (None, 15, 15, 64)        18496     \n",
            "_________________________________________________________________\n",
            "activation_14 (Activation)   (None, 15, 15, 64)        0         \n",
            "_________________________________________________________________\n",
            "conv2d_11 (Conv2D)           (None, 13, 13, 64)        36928     \n",
            "_________________________________________________________________\n",
            "activation_15 (Activation)   (None, 13, 13, 64)        0         \n",
            "_________________________________________________________________\n",
            "max_pooling2d_5 (MaxPooling2 (None, 6, 6, 64)          0         \n",
            "_________________________________________________________________\n",
            "dropout_7 (Dropout)          (None, 6, 6, 64)          0         \n",
            "_________________________________________________________________\n",
            "flatten_2 (Flatten)          (None, 2304)              0         \n",
            "_________________________________________________________________\n",
            "dense_4 (Dense)              (None, 512)               1180160   \n",
            "_________________________________________________________________\n",
            "activation_16 (Activation)   (None, 512)               0         \n",
            "_________________________________________________________________\n",
            "dropout_8 (Dropout)          (None, 512)               0         \n",
            "_________________________________________________________________\n",
            "dense_5 (Dense)              (None, 512)               262656    \n",
            "_________________________________________________________________\n",
            "activation_17 (Activation)   (None, 512)               0         \n",
            "_________________________________________________________________\n",
            "dropout_9 (Dropout)          (None, 512)               0         \n",
            "_________________________________________________________________\n",
            "dense_6 (Dense)              (None, 10)                5130      \n",
            "_________________________________________________________________\n",
            "activation_18 (Activation)   (None, 10)                0         \n",
            "=================================================================\n",
            "Total params: 1,513,514\n",
            "Trainable params: 1,513,514\n",
            "Non-trainable params: 0\n",
            "_________________________________________________________________\n"
          ],
          "name": "stdout"
        }
      ]
    },
    {
      "cell_type": "code",
      "metadata": {
        "colab": {
          "base_uri": "https://localhost:8080/",
          "height": 901
        },
        "id": "0ZEu1mTo6wjt",
        "outputId": "ae1f56dd-6564-481b-bf3b-d7516941187b"
      },
      "source": [
        "hh = model_2.fit(\n",
        "  x_train,\n",
        "  y_train,\n",
        "  batch_size=32,\n",
        "  epochs=15,\n",
        "  validation_data=(x_test, y_test),\n",
        "  shuffle=True,\n",
        ")\n",
        "\n",
        "# проверка работы обученной модели\n",
        "result = model_2.evaluate(\n",
        "  x_test,\n",
        "  y_test,\n",
        "  verbose=1\n",
        ")\n",
        "\n",
        "plot(hh.history['loss'], hh.history['val_loss'], f'loss={round(result[0], 3)} accuracy={round(result[1], 3)}')"
      ],
      "execution_count": 18,
      "outputs": [
        {
          "output_type": "stream",
          "text": [
            "Epoch 1/15\n",
            "1563/1563 [==============================] - 12s 7ms/step - loss: 0.7290 - accuracy: 0.7542 - val_loss: 0.6335 - val_accuracy: 0.7895\n",
            "Epoch 2/15\n",
            "1563/1563 [==============================] - 11s 7ms/step - loss: 0.7128 - accuracy: 0.7598 - val_loss: 0.6489 - val_accuracy: 0.7763\n",
            "Epoch 3/15\n",
            "1563/1563 [==============================] - 12s 8ms/step - loss: 0.6953 - accuracy: 0.7651 - val_loss: 0.6390 - val_accuracy: 0.7867\n",
            "Epoch 4/15\n",
            "1563/1563 [==============================] - 12s 8ms/step - loss: 0.6835 - accuracy: 0.7686 - val_loss: 0.6395 - val_accuracy: 0.7881\n",
            "Epoch 5/15\n",
            "1563/1563 [==============================] - 12s 7ms/step - loss: 0.6650 - accuracy: 0.7768 - val_loss: 0.6772 - val_accuracy: 0.7686\n",
            "Epoch 6/15\n",
            "1563/1563 [==============================] - 12s 7ms/step - loss: 0.6678 - accuracy: 0.7750 - val_loss: 0.6000 - val_accuracy: 0.7975\n",
            "Epoch 7/15\n",
            "1563/1563 [==============================] - 11s 7ms/step - loss: 0.6476 - accuracy: 0.7824 - val_loss: 0.6183 - val_accuracy: 0.7966\n",
            "Epoch 8/15\n",
            "1563/1563 [==============================] - 11s 7ms/step - loss: 0.6412 - accuracy: 0.7847 - val_loss: 0.6185 - val_accuracy: 0.7933\n",
            "Epoch 9/15\n",
            "1563/1563 [==============================] - 11s 7ms/step - loss: 0.6409 - accuracy: 0.7866 - val_loss: 0.6217 - val_accuracy: 0.7914\n",
            "Epoch 10/15\n",
            "1563/1563 [==============================] - 12s 8ms/step - loss: 0.6186 - accuracy: 0.7911 - val_loss: 0.6198 - val_accuracy: 0.7954\n",
            "Epoch 11/15\n",
            "1563/1563 [==============================] - 12s 7ms/step - loss: 0.6203 - accuracy: 0.7917 - val_loss: 0.6260 - val_accuracy: 0.7924\n",
            "Epoch 12/15\n",
            "1563/1563 [==============================] - 12s 8ms/step - loss: 0.6079 - accuracy: 0.7964 - val_loss: 0.6535 - val_accuracy: 0.7773\n",
            "Epoch 13/15\n",
            "1563/1563 [==============================] - 11s 7ms/step - loss: 0.6003 - accuracy: 0.7973 - val_loss: 0.6187 - val_accuracy: 0.7942\n",
            "Epoch 14/15\n",
            "1563/1563 [==============================] - 11s 7ms/step - loss: 0.5986 - accuracy: 0.7982 - val_loss: 0.6043 - val_accuracy: 0.7989\n",
            "Epoch 15/15\n",
            "1563/1563 [==============================] - 11s 7ms/step - loss: 0.5920 - accuracy: 0.8028 - val_loss: 0.6428 - val_accuracy: 0.7843\n",
            "313/313 [==============================] - 1s 3ms/step - loss: 0.6428 - accuracy: 0.7843\n"
          ],
          "name": "stdout"
        },
        {
          "output_type": "display_data",
          "data": {
            "image/png": "[encoded data removed]",
            "text/plain": [
              "<Figure size 1440x360 with 1 Axes>"
            ]
          },
          "metadata": {
            "tags": [],
            "needs_background": "light"
          }
        }
      ]
    },
    {
      "cell_type": "markdown",
      "metadata": {
        "id": "U2AJmoz8FlN3"
      },
      "source": [
        "## Вывод\n",
        "\n",
        "Базовый вариант сети:\n",
        "* 2 слоя свертки + max-pooling\n",
        "* 1 полносвязный слой 512 нейронов\n",
        "* оптимизатор SGD\n",
        "* 5 эпох\n",
        "\n",
        "accuracy: 0.5281\n",
        "\n",
        "----\n",
        "\n",
        "Оптимизированный вариант сети:\n",
        "* 2 слоя свертки + max-pooling\n",
        "* 2 полносвязных слоя по 512 нейронов\n",
        "* оптимизатор Nadam\n",
        "* 20 эпох\n",
        "\n",
        "accuracy: 0.7843"
      ]
    }
  ]
}