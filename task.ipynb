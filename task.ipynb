{
  "nbformat": 4,
  "nbformat_minor": 0,
  "metadata": {
    "colab": {
      "name": "les8.ipynb",
      "provenance": [],
      "collapsed_sections": []
    },
    "kernelspec": {
      "name": "python3",
      "display_name": "Python 3"
    },
    "language_info": {
      "name": "python"
    },
    "accelerator": "GPU"
  },
  "cells": [
    {
      "cell_type": "markdown",
      "metadata": {
        "id": "5mXiP_laVgil"
      },
      "source": [
        "# Урок: GAN\n",
        "\n",
        "## Задание: \n",
        "\n",
        "* Обучите нейронную сеть любой архитектуры которой не было на курсе, либо обучите нейронную сеть разобранной архитектуры, но на том датасете, которого не было на уроках. Сделайте анализ, того, что вам помогло в улучшения работы нейронной сети\n",
        "* Сделайте краткий обзор какой-нибудь научной работы посвященной тому или иному алгоритму нейронных сетей, который не рассматривался на курсе. Проведите анализ: Чем отличается выбранная вами на рассмотрение архитектура нейронной сети от других архитектур? В чем плюсы и минусы данной архитектуры? Какие могут возникнуть трудности при применении данной архитектуры на практике?"
      ]
    },
    {
      "cell_type": "markdown",
      "metadata": {
        "id": "Kp-9iRtlV1WP"
      },
      "source": [
        "## Импорт библиотек"
      ]
    },
    {
      "cell_type": "code",
      "metadata": {
        "id": "2BOVZVb0V6zP"
      },
      "source": [
        "import tensorflow as tf\n",
        "from tensorflow import keras\n",
        "from tensorflow.keras import layers\n",
        "import numpy as np\n",
        "\n",
        "import os\n",
        "import matplotlib.pyplot as plt\n",
        "\n",
        "import tensorflow.keras as keras\n",
        "from tensorflow.keras.datasets import cifar10\n",
        "from tensorflow.keras.preprocessing.image import ImageDataGenerator\n",
        "from tensorflow.keras.models import Sequential\n",
        "from tensorflow.keras.layers import Dense, Dropout, Activation, Flatten\n",
        "from tensorflow.keras.layers import Conv2D, MaxPooling2D"
      ],
      "execution_count": 1,
      "outputs": []
    },
    {
      "cell_type": "code",
      "metadata": {
        "colab": {
          "base_uri": "https://localhost:8080/"
        },
        "id": "tGrSa5iTXTFK",
        "outputId": "5b1b4e4c-0e3f-44a3-e87f-ff25605beff5"
      },
      "source": [
        "(x_train, y_train), (x_test, y_test) = cifar10.load_data()\n",
        "\n",
        "class_num = 0\n",
        "batch_size = 32\n",
        "indices_train = np.where(y_train == class_num)\n",
        "indices_test = np.where(y_test == class_num)\n",
        "\n",
        "all_digits = np.concatenate([x_train, x_test])\n",
        "all_digits = all_digits.astype(\"float32\") / 255\n",
        "indices_train = np.where(y_train == class_num)\n",
        "indices_test = np.where(y_test == class_num)\n",
        "all_digits = all_digits[indices_train,:,:]\n",
        "all_digits = np.reshape(all_digits, (-1, 32, 32, 1))\n",
        "dataset = tf.data.Dataset.from_tensor_slices(all_digits)\n",
        "dataset = dataset.shuffle(buffer_size=1024).batch(batch_size).prefetch(32)\n",
        "\n",
        "print('all_digits shape:', all_digits.shape)"
      ],
      "execution_count": 2,
      "outputs": [
        {
          "output_type": "stream",
          "text": [
            "Downloading data from https://www.cs.toronto.edu/~kriz/cifar-10-python.tar.gz\n",
            "170500096/170498071 [==============================] - 11s 0us/step\n",
            "170508288/170498071 [==============================] - 11s 0us/step\n",
            "all_digits shape: (30000, 32, 32, 1)\n"
          ],
          "name": "stdout"
        }
      ]
    },
    {
      "cell_type": "code",
      "metadata": {
        "colab": {
          "base_uri": "https://localhost:8080/"
        },
        "id": "7dCEgVLwZSiz",
        "outputId": "303cd418-feac-4b88-9728-05160d9a0a37"
      },
      "source": [
        "discriminator = keras.Sequential(\n",
        "    [\n",
        "        keras.Input(shape=(32, 32, 1)),\n",
        "        layers.Conv2D(64, (3, 3), strides=(2, 2), padding='same'),\n",
        "        layers.LeakyReLU(alpha=0.2),\n",
        "        layers.Conv2D(128, (3, 3), strides=(2, 2), padding='same'),\n",
        "        layers.LeakyReLU(alpha=0.2),\n",
        "        layers.GlobalMaxPooling2D(),\n",
        "        layers.Dense(1),\n",
        "    ],\n",
        "    name=\"discriminator\",\n",
        ")\n",
        "\n",
        "discriminator.summary()"
      ],
      "execution_count": 3,
      "outputs": [
        {
          "output_type": "stream",
          "text": [
            "Model: \"discriminator\"\n",
            "_________________________________________________________________\n",
            "Layer (type)                 Output Shape              Param #   \n",
            "=================================================================\n",
            "conv2d (Conv2D)              (None, 16, 16, 64)        640       \n",
            "_________________________________________________________________\n",
            "leaky_re_lu (LeakyReLU)      (None, 16, 16, 64)        0         \n",
            "_________________________________________________________________\n",
            "conv2d_1 (Conv2D)            (None, 8, 8, 128)         73856     \n",
            "_________________________________________________________________\n",
            "leaky_re_lu_1 (LeakyReLU)    (None, 8, 8, 128)         0         \n",
            "_________________________________________________________________\n",
            "global_max_pooling2d (Global (None, 128)               0         \n",
            "_________________________________________________________________\n",
            "dense (Dense)                (None, 1)                 129       \n",
            "=================================================================\n",
            "Total params: 74,625\n",
            "Trainable params: 74,625\n",
            "Non-trainable params: 0\n",
            "_________________________________________________________________\n"
          ],
          "name": "stdout"
        }
      ]
    },
    {
      "cell_type": "code",
      "metadata": {
        "colab": {
          "base_uri": "https://localhost:8080/"
        },
        "id": "EA97nNSmbb1Q",
        "outputId": "b243ad5e-c8ee-46a6-8869-faa9e753152d"
      },
      "source": [
        "latent_dim = 64\n",
        "\n",
        "generator = keras.Sequential(\n",
        "    [\n",
        "        keras.Input(shape=(latent_dim,)),\n",
        "        layers.Dense(32 * 32 * 64),\n",
        "        layers.LeakyReLU(alpha=0.2),\n",
        "        layers.Reshape((32, 32, 64)),\n",
        "        layers.Conv2DTranspose(64, (3, 3), padding=\"same\"),\n",
        "        layers.LeakyReLU(alpha=0.2),\n",
        "        layers.Conv2DTranspose(256, (3, 3), padding=\"same\"),\n",
        "        layers.LeakyReLU(alpha=0.2),\n",
        "        layers.Conv2D(1, (32, 32), padding=\"same\", activation=\"sigmoid\"),\n",
        "    ],\n",
        "    name=\"generator\",\n",
        ")\n",
        "\n",
        "generator.summary()"
      ],
      "execution_count": 4,
      "outputs": [
        {
          "output_type": "stream",
          "text": [
            "Model: \"generator\"\n",
            "_________________________________________________________________\n",
            "Layer (type)                 Output Shape              Param #   \n",
            "=================================================================\n",
            "dense_1 (Dense)              (None, 65536)             4259840   \n",
            "_________________________________________________________________\n",
            "leaky_re_lu_2 (LeakyReLU)    (None, 65536)             0         \n",
            "_________________________________________________________________\n",
            "reshape (Reshape)            (None, 32, 32, 64)        0         \n",
            "_________________________________________________________________\n",
            "conv2d_transpose (Conv2DTran (None, 32, 32, 64)        36928     \n",
            "_________________________________________________________________\n",
            "leaky_re_lu_3 (LeakyReLU)    (None, 32, 32, 64)        0         \n",
            "_________________________________________________________________\n",
            "conv2d_transpose_1 (Conv2DTr (None, 32, 32, 256)       147712    \n",
            "_________________________________________________________________\n",
            "leaky_re_lu_4 (LeakyReLU)    (None, 32, 32, 256)       0         \n",
            "_________________________________________________________________\n",
            "conv2d_2 (Conv2D)            (None, 32, 32, 1)         262145    \n",
            "=================================================================\n",
            "Total params: 4,706,625\n",
            "Trainable params: 4,706,625\n",
            "Non-trainable params: 0\n",
            "_________________________________________________________________\n"
          ],
          "name": "stdout"
        }
      ]
    },
    {
      "cell_type": "code",
      "metadata": {
        "id": "cMXcLPEkbqvH"
      },
      "source": [
        "class GAN(keras.Model):\n",
        "    def __init__(self, discriminator, generator, latent_dim):\n",
        "        super(GAN, self).__init__()\n",
        "        self.discriminator = discriminator\n",
        "        self.generator = generator\n",
        "        self.latent_dim = latent_dim\n",
        "\n",
        "    def compile(self, d_optimizer, g_optimizer, loss_fn):\n",
        "        super(GAN, self).compile()\n",
        "        self.d_optimizer = d_optimizer\n",
        "        self.g_optimizer = g_optimizer\n",
        "        self.loss_fn = loss_fn\n",
        "\n",
        "    def train_step(self, real_images):\n",
        "        if isinstance(real_images, tuple):\n",
        "            real_images = real_images[0]\n",
        "        # берем случайный пример из скрытого пространства\n",
        "        batch_size = tf.shape(real_images)[0]\n",
        "        random_latent_vectors = tf.random.normal(shape=(batch_size, self.latent_dim))\n",
        "\n",
        "        # Строим по нему фейковое изображение\n",
        "        generated_images = self.generator(random_latent_vectors)\n",
        "\n",
        "        # собрали с реальным в текзор\n",
        "        combined_images = tf.concat([generated_images, real_images], axis=0)\n",
        "\n",
        "        # задаем метки 1 и 0 соответственно\n",
        "        labels = tf.concat(\n",
        "            [tf.ones((batch_size, 1)), tf.zeros((batch_size, 1))], axis=0\n",
        "        )\n",
        "        # Добавляем шум !!!\n",
        "        labels += 0.05 * tf.random.uniform(tf.shape(labels))\n",
        "\n",
        "        # учим discriminator\n",
        "        with tf.GradientTape() as tape:\n",
        "            predictions = self.discriminator(combined_images)\n",
        "            d_loss = self.loss_fn(labels, predictions)\n",
        "        grads = tape.gradient(d_loss, self.discriminator.trainable_weights)\n",
        "        self.d_optimizer.apply_gradients(\n",
        "            zip(grads, self.discriminator.trainable_weights)\n",
        "        )\n",
        "\n",
        "        #Выбрали случайный пример в скрытом пространстве\n",
        "        random_latent_vectors = tf.random.normal(shape=(batch_size, self.latent_dim))\n",
        "\n",
        "        # собрали метки реальных изображений\n",
        "        misleading_labels = tf.zeros((batch_size, 1))\n",
        "\n",
        "        # Учим generator !\n",
        "        with tf.GradientTape() as tape:\n",
        "            predictions = self.discriminator(self.generator(random_latent_vectors))\n",
        "            g_loss = self.loss_fn(misleading_labels, predictions)\n",
        "        grads = tape.gradient(g_loss, self.generator.trainable_weights)\n",
        "        self.g_optimizer.apply_gradients(zip(grads, self.generator.trainable_weights))\n",
        "        return {\"d_loss\": d_loss, \"g_loss\": g_loss}\n"
      ],
      "execution_count": 5,
      "outputs": []
    },
    {
      "cell_type": "code",
      "metadata": {
        "id": "YvImO4mgbvtn"
      },
      "source": [
        "class GANMonitor(keras.callbacks.Callback):\n",
        "    def __init__(self, num_img=3, latent_dim=64):\n",
        "        self.num_img = num_img\n",
        "        self.latent_dim = latent_dim\n",
        "\n",
        "    def on_epoch_end(self, epoch, logs=None):\n",
        "        random_latent_vectors = tf.random.normal(shape=(self.num_img, self.latent_dim))\n",
        "        generated_images = self.model.generator(random_latent_vectors)\n",
        "        generated_images *= 255\n",
        "        generated_images.numpy()\n",
        "        for i in range(self.num_img):\n",
        "            img = keras.preprocessing.image.array_to_img(generated_images[i])\n",
        "            img.save(\"generated_img_{i}_{epoch}.png\".format(i=i, epoch=epoch))\n"
      ],
      "execution_count": 6,
      "outputs": []
    },
    {
      "cell_type": "code",
      "metadata": {
        "colab": {
          "base_uri": "https://localhost:8080/"
        },
        "id": "L_FWt2_Vbzt0",
        "outputId": "c4569c62-0f87-4968-93c1-5c9081ead49e"
      },
      "source": [
        "epochs = 25\n",
        "\n",
        "gan = GAN(discriminator=discriminator, generator=generator, latent_dim=latent_dim)\n",
        "gan.compile(\n",
        "    d_optimizer=keras.optimizers.SGD(),\n",
        "    g_optimizer=keras.optimizers.SGD(),\n",
        "    loss_fn=keras.losses.BinaryCrossentropy(from_logits=True),\n",
        ")\n",
        "\n",
        "gan.fit(\n",
        "    dataset, epochs=epochs, callbacks=[GANMonitor(num_img=3, latent_dim=latent_dim)]\n",
        ")"
      ],
      "execution_count": 7,
      "outputs": [
        {
          "output_type": "stream",
          "text": [
            "Epoch 1/25\n",
            "938/938 [==============================] - 101s 70ms/step - d_loss: 0.5451 - g_loss: 0.8715\n",
            "Epoch 2/25\n",
            "938/938 [==============================] - 62s 66ms/step - d_loss: 0.3918 - g_loss: 1.4366\n",
            "Epoch 3/25\n",
            "938/938 [==============================] - 62s 66ms/step - d_loss: 0.0211 - g_loss: 4.9098\n",
            "Epoch 4/25\n",
            "938/938 [==============================] - 62s 66ms/step - d_loss: 0.0555 - g_loss: 7.1427\n",
            "Epoch 5/25\n",
            "938/938 [==============================] - 62s 66ms/step - d_loss: 0.1763 - g_loss: 3.0687\n",
            "Epoch 6/25\n",
            "938/938 [==============================] - 62s 66ms/step - d_loss: 0.1517 - g_loss: 2.9137\n",
            "Epoch 7/25\n",
            "938/938 [==============================] - 62s 66ms/step - d_loss: 0.5964 - g_loss: 1.0779\n",
            "Epoch 8/25\n",
            "938/938 [==============================] - 62s 66ms/step - d_loss: 0.6476 - g_loss: 0.8855\n",
            "Epoch 9/25\n",
            "938/938 [==============================] - 62s 66ms/step - d_loss: 0.5941 - g_loss: 0.9695\n",
            "Epoch 10/25\n",
            "938/938 [==============================] - 62s 66ms/step - d_loss: 0.6046 - g_loss: 0.9762\n",
            "Epoch 11/25\n",
            "938/938 [==============================] - 62s 66ms/step - d_loss: 0.6109 - g_loss: 0.9771\n",
            "Epoch 12/25\n",
            "938/938 [==============================] - 61s 65ms/step - d_loss: 0.5813 - g_loss: 1.0479\n",
            "Epoch 13/25\n",
            "938/938 [==============================] - 61s 65ms/step - d_loss: 0.6010 - g_loss: 1.0027\n",
            "Epoch 14/25\n",
            "938/938 [==============================] - 62s 66ms/step - d_loss: 0.5977 - g_loss: 1.0237\n",
            "Epoch 15/25\n",
            "938/938 [==============================] - 62s 66ms/step - d_loss: 0.5926 - g_loss: 1.0335\n",
            "Epoch 16/25\n",
            "938/938 [==============================] - 62s 66ms/step - d_loss: 0.5854 - g_loss: 1.0627\n",
            "Epoch 17/25\n",
            "938/938 [==============================] - 62s 66ms/step - d_loss: 0.5920 - g_loss: 1.0677\n",
            "Epoch 18/25\n",
            "938/938 [==============================] - 62s 66ms/step - d_loss: 0.5830 - g_loss: 1.0783\n",
            "Epoch 19/25\n",
            "938/938 [==============================] - 62s 66ms/step - d_loss: 0.5879 - g_loss: 1.0885\n",
            "Epoch 20/25\n",
            "938/938 [==============================] - 62s 66ms/step - d_loss: 0.5497 - g_loss: 1.1641\n",
            "Epoch 21/25\n",
            "938/938 [==============================] - 62s 66ms/step - d_loss: 0.5443 - g_loss: 1.1867\n",
            "Epoch 22/25\n",
            "938/938 [==============================] - 62s 66ms/step - d_loss: 0.5387 - g_loss: 1.2455\n",
            "Epoch 23/25\n",
            "938/938 [==============================] - 62s 67ms/step - d_loss: 0.5714 - g_loss: 1.1504\n",
            "Epoch 24/25\n",
            "938/938 [==============================] - 62s 66ms/step - d_loss: 0.5172 - g_loss: 1.3005\n",
            "Epoch 25/25\n",
            "938/938 [==============================] - 62s 66ms/step - d_loss: 0.5242 - g_loss: 1.2555\n"
          ],
          "name": "stdout"
        },
        {
          "output_type": "execute_result",
          "data": {
            "text/plain": [
              "<keras.callbacks.History at 0x7f759ca74a50>"
            ]
          },
          "metadata": {},
          "execution_count": 7
        }
      ]
    },
    {
      "cell_type": "code",
      "metadata": {
        "colab": {
          "base_uri": "https://localhost:8080/",
          "height": 625
        },
        "id": "xWYndtDQvulj",
        "outputId": "d94ca7f6-679f-4110-8a34-0439b220a30d"
      },
      "source": [
        "from IPython.display import Image, display\n",
        "\n",
        "for i in range(1,20):\n",
        "  display(Image(\"generated_img_0_\"+str(i)+\".png\"))"
      ],
      "execution_count": 9,
      "outputs": [
        {
          "output_type": "display_data",
          "data": {
            "image/png": "[encoded data removed]",
            "text/plain": [
              "<IPython.core.display.Image object>"
            ]
          },
          "metadata": {}
        },
        {
          "output_type": "display_data",
          "data": {
            "image/png": "[encoded data removed]",
            "text/plain": [
              "<IPython.core.display.Image object>"
            ]
          },
          "metadata": {}
        },
        {
          "output_type": "display_data",
          "data": {
            "image/png": "[encoded data removed]",
            "text/plain": [
              "<IPython.core.display.Image object>"
            ]
          },
          "metadata": {}
        },
        {
          "output_type": "display_data",
          "data": {
            "image/png": "[encoded data removed]",
            "text/plain": [
              "<IPython.core.display.Image object>"
            ]
          },
          "metadata": {}
        },
        {
          "output_type": "display_data",
          "data": {
            "image/png": "[encoded data removed]",
            "text/plain": [
              "<IPython.core.display.Image object>"
            ]
          },
          "metadata": {}
        },
        {
          "output_type": "display_data",
          "data": {
            "image/png": "[encoded data removed]",
            "text/plain": [
              "<IPython.core.display.Image object>"
            ]
          },
          "metadata": {}
        },
        {
          "output_type": "display_data",
          "data": {
            "image/png": "[encoded data removed]",
            "text/plain": [
              "<IPython.core.display.Image object>"
            ]
          },
          "metadata": {}
        },
        {
          "output_type": "display_data",
          "data": {
            "image/png": "[encoded data removed]",
            "text/plain": [
              "<IPython.core.display.Image object>"
            ]
          },
          "metadata": {}
        },
        {
          "output_type": "display_data",
          "data": {
            "image/png": "[encoded data removed]",
            "text/plain": [
              "<IPython.core.display.Image object>"
            ]
          },
          "metadata": {}
        },
        {
          "output_type": "display_data",
          "data": {
            "image/png": "[encoded data removed]",
            "text/plain": [
              "<IPython.core.display.Image object>"
            ]
          },
          "metadata": {}
        },
        {
          "output_type": "display_data",
          "data": {
            "image/png": "[encoded data removed]",
            "text/plain": [
              "<IPython.core.display.Image object>"
            ]
          },
          "metadata": {}
        },
        {
          "output_type": "display_data",
          "data": {
            "image/png": "[encoded data removed]",
            "text/plain": [
              "<IPython.core.display.Image object>"
            ]
          },
          "metadata": {}
        },
        {
          "output_type": "display_data",
          "data": {
            "image/png": "[encoded data removed]",
            "text/plain": [
              "<IPython.core.display.Image object>"
            ]
          },
          "metadata": {}
        },
        {
          "output_type": "display_data",
          "data": {
            "image/png": "[encoded data removed]",
            "text/plain": [
              "<IPython.core.display.Image object>"
            ]
          },
          "metadata": {}
        },
        {
          "output_type": "display_data",
          "data": {
            "image/png": "[encoded data removed]",
            "text/plain": [
              "<IPython.core.display.Image object>"
            ]
          },
          "metadata": {}
        },
        {
          "output_type": "display_data",
          "data": {
            "image/png": "[encoded data removed]",
            "text/plain": [
              "<IPython.core.display.Image object>"
            ]
          },
          "metadata": {}
        },
        {
          "output_type": "display_data",
          "data": {
            "image/png": "[encoded data removed]",
            "text/plain": [
              "<IPython.core.display.Image object>"
            ]
          },
          "metadata": {}
        },
        {
          "output_type": "display_data",
          "data": {
            "image/png": "[encoded data removed]",
            "text/plain": [
              "<IPython.core.display.Image object>"
            ]
          },
          "metadata": {}
        },
        {
          "output_type": "display_data",
          "data": {
            "image/png": "[encoded data removed]",
            "text/plain": [
              "<IPython.core.display.Image object>"
            ]
          },
          "metadata": {}
        }
      ]
    },
    {
      "cell_type": "markdown",
      "metadata": {
        "id": "nTjvIXIh4J6F"
      },
      "source": [
        "## Анализ\n",
        "\n",
        "* `latent_dim` установлен равным 64\n",
        "* количество эпох 25\n",
        "* оптимизатор `SGD`"
      ]
    }
  ]
}