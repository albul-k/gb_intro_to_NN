{
  "nbformat": 4,
  "nbformat_minor": 0,
  "metadata": {
    "colab": {
      "name": "les5_2.ipynb",
      "provenance": [],
      "collapsed_sections": []
    },
    "kernelspec": {
      "name": "python3",
      "display_name": "Python 3"
    },
    "language_info": {
      "name": "python"
    },
    "accelerator": "GPU"
  },
  "cells": [
    {
      "cell_type": "markdown",
      "metadata": {
        "id": "3F1Cpk9pfN9d"
      },
      "source": [
        "# Урок: Рекуррентные нейронные сети\n",
        "\n",
        "## Задание: \n",
        "\n",
        "* Попробуйте изменить параметры нейронной сети, генерирующей текст таким образом, чтобы добиться генерации как можно более осмысленного текста. Пришлите лучший текст из получившихся и опишите предпринятые для его получения действия. Можно использовать текст другого произведения"
      ]
    },
    {
      "cell_type": "markdown",
      "metadata": {
        "id": "3DFZQ1P8fYrr"
      },
      "source": [
        "## Импорт библиотек"
      ]
    },
    {
      "cell_type": "code",
      "metadata": {
        "id": "Fb3ObE3nfZ_M"
      },
      "source": [
        "import numpy as np\n",
        "\n",
        "import tensorflow.keras.utils as ku\n",
        "from tensorflow.keras.preprocessing.sequence import pad_sequences\n",
        "from tensorflow.keras.layers import Embedding, LSTM, Dense\n",
        "from tensorflow.keras.preprocessing.text import Tokenizer\n",
        "from tensorflow.keras.models import Sequential\n",
        "from tensorflow.keras.callbacks import EarlyStopping\n",
        "\n",
        "import warnings\n",
        "warnings.filterwarnings(\"ignore\")\n",
        "warnings.simplefilter(action='ignore', category=FutureWarning)"
      ],
      "execution_count": 47,
      "outputs": []
    },
    {
      "cell_type": "code",
      "metadata": {
        "colab": {
          "base_uri": "https://localhost:8080/"
        },
        "id": "wbR8APklg7eb",
        "outputId": "f2204fa5-c8bf-4ecf-b220-c3c6dd0a2de3"
      },
      "source": [
        "!wget --no-check-certificate \\\n",
        "    https://storage.googleapis.com/laurencemoroney-blog.appspot.com/sonnets.txt \\\n",
        "    -O /tmp/sonnets.txt\n",
        "data = open('/tmp/sonnets.txt').read()\n",
        "corpus = data.lower().split(\"\\n\")"
      ],
      "execution_count": 2,
      "outputs": [
        {
          "output_type": "stream",
          "text": [
            "--2021-08-10 12:05:33--  https://storage.googleapis.com/laurencemoroney-blog.appspot.com/sonnets.txt\n",
            "Resolving storage.googleapis.com (storage.googleapis.com)... 173.194.76.128, 66.102.1.128, 172.253.120.128, ...\n",
            "Connecting to storage.googleapis.com (storage.googleapis.com)|173.194.76.128|:443... connected.\n",
            "HTTP request sent, awaiting response... 200 OK\n",
            "Length: 93578 (91K) [text/plain]\n",
            "Saving to: ‘/tmp/sonnets.txt’\n",
            "\n",
            "\r/tmp/sonnets.txt      0%[                    ]       0  --.-KB/s               \r/tmp/sonnets.txt    100%[===================>]  91.38K  --.-KB/s    in 0.001s  \n",
            "\n",
            "2021-08-10 12:05:33 (91.6 MB/s) - ‘/tmp/sonnets.txt’ saved [93578/93578]\n",
            "\n"
          ],
          "name": "stdout"
        }
      ]
    },
    {
      "cell_type": "code",
      "metadata": {
        "id": "Qvo-xeHYhA9I"
      },
      "source": [
        "# Создаем объект для токенизации\n",
        "tokenizer = Tokenizer(\n",
        "  num_words=20000,\n",
        ")\n",
        "tokenizer.fit_on_texts(corpus)\n",
        "total_words = len(tokenizer.word_index) + 1\n",
        "\n",
        "# create input sequences using list of tokens\n",
        "input_sequences = []\n",
        "for line in corpus:\n",
        "\ttoken_list = tokenizer.texts_to_sequences([line])[0]\n",
        "\tfor i in range(1, len(token_list)):\n",
        "\t\tn_gram_sequence = token_list[:i+1]\n",
        "\t\tinput_sequences.append(n_gram_sequence)\n",
        "\n",
        "# pad sequences \n",
        "max_sequence_len = max([len(x) for x in input_sequences])\n",
        "input_sequences = np.array(pad_sequences(input_sequences, maxlen=max_sequence_len, padding='pre'))\n",
        "\n",
        "# create predictors and label\n",
        "predictors, label = input_sequences[:,:-1],input_sequences[:,-1]\n",
        "\n",
        "label = ku.to_categorical(label, num_classes=total_words)"
      ],
      "execution_count": 35,
      "outputs": []
    },
    {
      "cell_type": "code",
      "metadata": {
        "colab": {
          "base_uri": "https://localhost:8080/"
        },
        "id": "d_sXVxdChF7L",
        "outputId": "018ae95c-8bd7-4b7a-c991-f7209a64bd37"
      },
      "source": [
        "callback = EarlyStopping(monitor='val_loss', patience=10)\n",
        "\n",
        "model = Sequential()\n",
        "model.add(Embedding(total_words, 256, input_length=max_sequence_len-1))\n",
        "model.add(LSTM(256))\n",
        "model.add(Dropout(0.2))\n",
        "model.add(Dense(total_words, activation='softmax'))\n",
        "model.compile(loss='categorical_crossentropy', optimizer='adam', metrics=['accuracy'])\n",
        "model.summary()"
      ],
      "execution_count": 43,
      "outputs": [
        {
          "output_type": "stream",
          "text": [
            "Model: \"sequential_9\"\n",
            "_________________________________________________________________\n",
            "Layer (type)                 Output Shape              Param #   \n",
            "=================================================================\n",
            "embedding_9 (Embedding)      (None, 10, 256)           822016    \n",
            "_________________________________________________________________\n",
            "lstm_11 (LSTM)               (None, 256)               525312    \n",
            "_________________________________________________________________\n",
            "dropout_8 (Dropout)          (None, 256)               0         \n",
            "_________________________________________________________________\n",
            "dense_10 (Dense)             (None, 3211)              825227    \n",
            "=================================================================\n",
            "Total params: 2,172,555\n",
            "Trainable params: 2,172,555\n",
            "Non-trainable params: 0\n",
            "_________________________________________________________________\n"
          ],
          "name": "stdout"
        }
      ]
    },
    {
      "cell_type": "code",
      "metadata": {
        "colab": {
          "base_uri": "https://localhost:8080/"
        },
        "id": "SCkmBN7Oh0kL",
        "outputId": "ee3c9ff8-285f-4e0a-d65b-5d21e779771a"
      },
      "source": [
        " history = model.fit(\n",
        "  predictors,\n",
        "  label,\n",
        "  batch_size=32,\n",
        "  epochs=100,\n",
        "  validation_split=0.2,\n",
        "  callbacks=[callback],\n",
        "  verbose=1\n",
        ")"
      ],
      "execution_count": 44,
      "outputs": [
        {
          "output_type": "stream",
          "text": [
            "Epoch 1/100\n",
            "387/387 [==============================] - 10s 20ms/step - loss: 6.8397 - accuracy: 0.0261 - val_loss: 6.7709 - val_accuracy: 0.0200\n",
            "Epoch 2/100\n",
            "387/387 [==============================] - 7s 19ms/step - loss: 6.4334 - accuracy: 0.0321 - val_loss: 6.8414 - val_accuracy: 0.0236\n",
            "Epoch 3/100\n",
            "387/387 [==============================] - 7s 19ms/step - loss: 6.2204 - accuracy: 0.0406 - val_loss: 6.8643 - val_accuracy: 0.0330\n",
            "Epoch 4/100\n",
            "387/387 [==============================] - 7s 19ms/step - loss: 5.9585 - accuracy: 0.0543 - val_loss: 6.9028 - val_accuracy: 0.0482\n",
            "Epoch 5/100\n",
            "387/387 [==============================] - 7s 18ms/step - loss: 5.6303 - accuracy: 0.0697 - val_loss: 7.0483 - val_accuracy: 0.0511\n",
            "Epoch 6/100\n",
            "387/387 [==============================] - 7s 18ms/step - loss: 5.2560 - accuracy: 0.0854 - val_loss: 7.1704 - val_accuracy: 0.0530\n",
            "Epoch 7/100\n",
            "387/387 [==============================] - 7s 19ms/step - loss: 4.8350 - accuracy: 0.1133 - val_loss: 7.3137 - val_accuracy: 0.0556\n",
            "Epoch 8/100\n",
            "387/387 [==============================] - 7s 19ms/step - loss: 4.4012 - accuracy: 0.1539 - val_loss: 7.5441 - val_accuracy: 0.0569\n",
            "Epoch 9/100\n",
            "387/387 [==============================] - 7s 19ms/step - loss: 3.9669 - accuracy: 0.2155 - val_loss: 7.6625 - val_accuracy: 0.0485\n",
            "Epoch 10/100\n",
            "387/387 [==============================] - 7s 19ms/step - loss: 3.5330 - accuracy: 0.2907 - val_loss: 7.8360 - val_accuracy: 0.0517\n",
            "Epoch 11/100\n",
            "387/387 [==============================] - 7s 19ms/step - loss: 3.1383 - accuracy: 0.3708 - val_loss: 8.0396 - val_accuracy: 0.0514\n"
          ],
          "name": "stdout"
        }
      ]
    },
    {
      "cell_type": "code",
      "metadata": {
        "id": "J3quq_zyiGm7"
      },
      "source": [
        "def generate_text(seed_text, next_words, model):\n",
        "  # строим последовательность + новое предсказание  \n",
        "  for _ in range(next_words):\n",
        "    # текущая последовательность (токенизация и дополнение)\n",
        "    token_list = tokenizer.texts_to_sequences([seed_text])[0]\n",
        "    token_list = pad_sequences([token_list], maxlen=max_sequence_len-1, padding='pre')\n",
        "    predicted = model.predict_classes(token_list, verbose=0)\n",
        "  \n",
        "    output_word = \"\"\n",
        "    # добавим новое слово в последовательность\n",
        "    for word, index in tokenizer.word_index.items():\n",
        "      if index == predicted:\n",
        "        output_word = word\n",
        "        break\n",
        "    seed_text += \" \" + output_word\n",
        "  return seed_text"
      ],
      "execution_count": 41,
      "outputs": []
    },
    {
      "cell_type": "code",
      "metadata": {
        "colab": {
          "base_uri": "https://localhost:8080/"
        },
        "id": "txw8BPjOFm0t",
        "outputId": "767dd48d-8e74-4e5b-9255-b90dc5c51b23"
      },
      "source": [
        "print (generate_text(\"united states\", 10, model))\n",
        "print (generate_text(\"india and china\", 10, model))\n",
        "print (generate_text(\"new york\", 10, model))\n",
        "print (generate_text(\"science and technology\", 10, model))"
      ],
      "execution_count": 49,
      "outputs": [
        {
          "output_type": "stream",
          "text": [
            "united states with the world do i not glance more aside aside\n",
            "india and china in their thoughts even it is it doth dwell in\n",
            "new york to the world that i think his part ' in\n",
            "science and technology in their thoughts even it is it doth dwell in\n"
          ],
          "name": "stdout"
        }
      ]
    }
  ]
}